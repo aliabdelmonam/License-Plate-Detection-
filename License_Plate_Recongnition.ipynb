{
  "cells": [
    {
      "cell_type": "code",
      "execution_count": null,
      "metadata": {
        "colab": {
          "base_uri": "https://localhost:8080/"
        },
        "collapsed": true,
        "id": "K7U58EAyH8oy",
        "outputId": "47f33728-9fec-4c75-cce6-0039eb226e03"
      },
      "outputs": [],
      "source": [
        "# !pip install ultralytics\n",
        "# !pip install roboflow\n",
        "# !pip install easyocr"
      ]
    },
    {
      "cell_type": "code",
      "execution_count": 1,
      "metadata": {
        "id": "1lmlZSCzIEJn"
      },
      "outputs": [],
      "source": [
        "import numpy as np\n",
        "import matplotlib.pyplot as plt\n",
        "import cv2\n",
        "import os\n",
        "from ultralytics import YOLO\n",
        "import easyocr\n"
      ]
    },
    {
      "cell_type": "code",
      "execution_count": 2,
      "metadata": {
        "id": "UV26LIF8ItMl"
      },
      "outputs": [],
      "source": [
        "model = YOLO('best.pt')"
      ]
    },
    {
      "cell_type": "code",
      "execution_count": 4,
      "metadata": {
        "colab": {
          "base_uri": "https://localhost:8080/"
        },
        "id": "aqTsT37DI1rP",
        "outputId": "0e14fc23-1b11-483b-a856-fa520a86a6a0"
      },
      "outputs": [
        {
          "name": "stdout",
          "output_type": "stream",
          "text": [
            "loading Roboflow workspace...\n",
            "loading Roboflow project...\n"
          ]
        },
        {
          "name": "stderr",
          "output_type": "stream",
          "text": [
            "Downloading Dataset Version Zip in License-Plate-Recognition-6 to yolov8:: 100%|██████████| 323175/323175 [03:31<00:00, 1531.45it/s]"
          ]
        },
        {
          "name": "stdout",
          "output_type": "stream",
          "text": [
            "\n"
          ]
        },
        {
          "name": "stderr",
          "output_type": "stream",
          "text": [
            "\n",
            "Extracting Dataset Version Zip to License-Plate-Recognition-6 in yolov8:: 100%|██████████| 20262/20262 [01:23<00:00, 243.95it/s]\n"
          ]
        }
      ],
      "source": [
        "# from roboflow import Roboflow\n",
        "# rf = Roboflow(api_key=\"BLcnvHKKuP2mEYtl4yQ3\")\n",
        "# project = rf.workspace(\"roboflow-universe-projects\").project(\"license-plate-recognition-rxg4e\")\n",
        "# version = project.version(6)\n",
        "# dataset = version.download(\"yolov8\")"
      ]
    },
    {
      "cell_type": "code",
      "execution_count": 3,
      "metadata": {
        "colab": {
          "base_uri": "https://localhost:8080/",
          "height": 36
        },
        "id": "0c-YusUXJi7e",
        "outputId": "ac6914c2-a006-4245-be9a-5f5d409757d5"
      },
      "outputs": [
        {
          "data": {
            "text/plain": [
              "'d:\\\\License plate Detection'"
            ]
          },
          "execution_count": 3,
          "metadata": {},
          "output_type": "execute_result"
        }
      ],
      "source": [
        "os.getcwd()"
      ]
    },
    {
      "cell_type": "code",
      "execution_count": null,
      "metadata": {
        "colab": {
          "base_uri": "https://localhost:8080/"
        },
        "collapsed": true,
        "id": "EpbZhItXJnSO",
        "outputId": "0cad4c26-2284-4f11-f040-f1a103784642"
      },
      "outputs": [],
      "source": [
        "# model.train(data='/content/License-Plate-Recognition-6/data.yaml', epochs=10,patience=8,save=True,optimizer='Adam',imgsz=640,save_period=2,device=0)"
      ]
    },
    {
      "cell_type": "code",
      "execution_count": 44,
      "metadata": {
        "colab": {
          "base_uri": "https://localhost:8080/"
        },
        "id": "X2kYOGhQ4CbR",
        "outputId": "097a6110-1e69-4f6d-ab4f-5e48d032108c"
      },
      "outputs": [],
      "source": [
        "def get_points(result):\n",
        "  li = []\n",
        "  for box in result[0]:\n",
        "    x1,y1,x2,y2 =  map(int,box.boxes.xyxy[0].tolist())\n",
        "    temp = list()\n",
        "    temp.append(x1)\n",
        "    temp.append(y1)\n",
        "    temp.append(x2)\n",
        "    temp.append(y2)\n",
        "    li.append(temp)\n",
        "  return li\n",
        "    "
      ]
    },
    {
      "cell_type": "code",
      "execution_count": 7,
      "metadata": {
        "id": "SuQ8bTpJBCFp"
      },
      "outputs": [],
      "source": [
        "def license_text(img):\n",
        "  tt = reader.readtext(img)\n",
        "  txt_list = list()\n",
        "  for temp in tt:\n",
        "    _,text,_ = temp\n",
        "    txt_list.append(text)\n",
        "  return  \" \".join(txt_list).upper()"
      ]
    },
    {
      "cell_type": "code",
      "execution_count": 51,
      "metadata": {
        "colab": {
          "base_uri": "https://localhost:8080/"
        },
        "id": "aUllYKqXMKdA",
        "outputId": "e171e191-7f0c-4a7a-9521-13a2eff2514f"
      },
      "outputs": [
        {
          "name": "stdout",
          "output_type": "stream",
          "text": [
            "\n"
          ]
        },
        {
          "name": "stdout",
          "output_type": "stream",
          "text": [
            "\n",
            "WARNING  inference results will accumulate in RAM unless `stream=True` is passed, causing potential out-of-memory\n",
            "errors for large sources or long-running streams and videos. See https://docs.ultralytics.com/modes/predict/ for help.\n",
            "\n",
            "Example:\n",
            "    results = model(source=..., stream=True)  # generator of Results objects\n",
            "    for r in results:\n",
            "        boxes = r.boxes  # Boxes object for bbox outputs\n",
            "        masks = r.masks  # Masks object for segment masks outputs\n",
            "        probs = r.probs  # Class probabilities for classification outputs\n",
            "\n",
            "video 1/1 (frame 1/140) C:\\Users\\BS\\Desktop\\license_plate.mp4: 384x640 1 License_Plate, 282.8ms\n",
            "video 1/1 (frame 2/140) C:\\Users\\BS\\Desktop\\license_plate.mp4: 384x640 1 License_Plate, 134.0ms\n",
            "video 1/1 (frame 3/140) C:\\Users\\BS\\Desktop\\license_plate.mp4: 384x640 1 License_Plate, 184.9ms\n",
            "video 1/1 (frame 4/140) C:\\Users\\BS\\Desktop\\license_plate.mp4: 384x640 1 License_Plate, 170.0ms\n",
            "video 1/1 (frame 5/140) C:\\Users\\BS\\Desktop\\license_plate.mp4: 384x640 1 License_Plate, 123.0ms\n",
            "video 1/1 (frame 6/140) C:\\Users\\BS\\Desktop\\license_plate.mp4: 384x640 1 License_Plate, 128.0ms\n",
            "video 1/1 (frame 7/140) C:\\Users\\BS\\Desktop\\license_plate.mp4: 384x640 1 License_Plate, 112.9ms\n",
            "video 1/1 (frame 8/140) C:\\Users\\BS\\Desktop\\license_plate.mp4: 384x640 1 License_Plate, 104.0ms\n",
            "video 1/1 (frame 9/140) C:\\Users\\BS\\Desktop\\license_plate.mp4: 384x640 1 License_Plate, 103.0ms\n",
            "video 1/1 (frame 10/140) C:\\Users\\BS\\Desktop\\license_plate.mp4: 384x640 1 License_Plate, 217.0ms\n",
            "video 1/1 (frame 11/140) C:\\Users\\BS\\Desktop\\license_plate.mp4: 384x640 1 License_Plate, 157.0ms\n",
            "video 1/1 (frame 12/140) C:\\Users\\BS\\Desktop\\license_plate.mp4: 384x640 1 License_Plate, 140.0ms\n",
            "video 1/1 (frame 13/140) C:\\Users\\BS\\Desktop\\license_plate.mp4: 384x640 1 License_Plate, 144.0ms\n",
            "video 1/1 (frame 14/140) C:\\Users\\BS\\Desktop\\license_plate.mp4: 384x640 1 License_Plate, 135.0ms\n",
            "video 1/1 (frame 15/140) C:\\Users\\BS\\Desktop\\license_plate.mp4: 384x640 1 License_Plate, 140.0ms\n",
            "video 1/1 (frame 16/140) C:\\Users\\BS\\Desktop\\license_plate.mp4: 384x640 1 License_Plate, 132.0ms\n",
            "video 1/1 (frame 17/140) C:\\Users\\BS\\Desktop\\license_plate.mp4: 384x640 1 License_Plate, 131.0ms\n",
            "video 1/1 (frame 18/140) C:\\Users\\BS\\Desktop\\license_plate.mp4: 384x640 1 License_Plate, 144.0ms\n",
            "video 1/1 (frame 19/140) C:\\Users\\BS\\Desktop\\license_plate.mp4: 384x640 1 License_Plate, 154.0ms\n",
            "video 1/1 (frame 20/140) C:\\Users\\BS\\Desktop\\license_plate.mp4: 384x640 1 License_Plate, 136.0ms\n",
            "video 1/1 (frame 21/140) C:\\Users\\BS\\Desktop\\license_plate.mp4: 384x640 1 License_Plate, 129.0ms\n",
            "video 1/1 (frame 22/140) C:\\Users\\BS\\Desktop\\license_plate.mp4: 384x640 1 License_Plate, 126.0ms\n",
            "video 1/1 (frame 23/140) C:\\Users\\BS\\Desktop\\license_plate.mp4: 384x640 1 License_Plate, 127.0ms\n",
            "video 1/1 (frame 24/140) C:\\Users\\BS\\Desktop\\license_plate.mp4: 384x640 1 License_Plate, 139.0ms\n",
            "video 1/1 (frame 25/140) C:\\Users\\BS\\Desktop\\license_plate.mp4: 384x640 1 License_Plate, 126.0ms\n",
            "video 1/1 (frame 26/140) C:\\Users\\BS\\Desktop\\license_plate.mp4: 384x640 1 License_Plate, 130.0ms\n",
            "video 1/1 (frame 27/140) C:\\Users\\BS\\Desktop\\license_plate.mp4: 384x640 1 License_Plate, 139.0ms\n",
            "video 1/1 (frame 28/140) C:\\Users\\BS\\Desktop\\license_plate.mp4: 384x640 1 License_Plate, 132.0ms\n",
            "video 1/1 (frame 29/140) C:\\Users\\BS\\Desktop\\license_plate.mp4: 384x640 1 License_Plate, 125.0ms\n",
            "video 1/1 (frame 30/140) C:\\Users\\BS\\Desktop\\license_plate.mp4: 384x640 1 License_Plate, 141.0ms\n",
            "video 1/1 (frame 31/140) C:\\Users\\BS\\Desktop\\license_plate.mp4: 384x640 1 License_Plate, 133.0ms\n",
            "video 1/1 (frame 32/140) C:\\Users\\BS\\Desktop\\license_plate.mp4: 384x640 1 License_Plate, 126.0ms\n",
            "video 1/1 (frame 33/140) C:\\Users\\BS\\Desktop\\license_plate.mp4: 384x640 1 License_Plate, 128.0ms\n",
            "video 1/1 (frame 34/140) C:\\Users\\BS\\Desktop\\license_plate.mp4: 384x640 1 License_Plate, 129.0ms\n",
            "video 1/1 (frame 35/140) C:\\Users\\BS\\Desktop\\license_plate.mp4: 384x640 1 License_Plate, 126.0ms\n",
            "video 1/1 (frame 36/140) C:\\Users\\BS\\Desktop\\license_plate.mp4: 384x640 1 License_Plate, 127.0ms\n",
            "video 1/1 (frame 37/140) C:\\Users\\BS\\Desktop\\license_plate.mp4: 384x640 1 License_Plate, 126.0ms\n",
            "video 1/1 (frame 38/140) C:\\Users\\BS\\Desktop\\license_plate.mp4: 384x640 1 License_Plate, 126.0ms\n",
            "video 1/1 (frame 39/140) C:\\Users\\BS\\Desktop\\license_plate.mp4: 384x640 1 License_Plate, 126.0ms\n",
            "video 1/1 (frame 40/140) C:\\Users\\BS\\Desktop\\license_plate.mp4: 384x640 1 License_Plate, 127.0ms\n",
            "video 1/1 (frame 41/140) C:\\Users\\BS\\Desktop\\license_plate.mp4: 384x640 1 License_Plate, 127.0ms\n",
            "video 1/1 (frame 42/140) C:\\Users\\BS\\Desktop\\license_plate.mp4: 384x640 1 License_Plate, 128.0ms\n",
            "video 1/1 (frame 43/140) C:\\Users\\BS\\Desktop\\license_plate.mp4: 384x640 1 License_Plate, 126.0ms\n",
            "video 1/1 (frame 44/140) C:\\Users\\BS\\Desktop\\license_plate.mp4: 384x640 1 License_Plate, 131.0ms\n",
            "video 1/1 (frame 45/140) C:\\Users\\BS\\Desktop\\license_plate.mp4: 384x640 1 License_Plate, 126.0ms\n",
            "video 1/1 (frame 46/140) C:\\Users\\BS\\Desktop\\license_plate.mp4: 384x640 1 License_Plate, 126.0ms\n",
            "video 1/1 (frame 47/140) C:\\Users\\BS\\Desktop\\license_plate.mp4: 384x640 1 License_Plate, 125.0ms\n",
            "video 1/1 (frame 48/140) C:\\Users\\BS\\Desktop\\license_plate.mp4: 384x640 1 License_Plate, 127.0ms\n",
            "video 1/1 (frame 49/140) C:\\Users\\BS\\Desktop\\license_plate.mp4: 384x640 1 License_Plate, 129.0ms\n",
            "video 1/1 (frame 50/140) C:\\Users\\BS\\Desktop\\license_plate.mp4: 384x640 1 License_Plate, 139.0ms\n",
            "video 1/1 (frame 51/140) C:\\Users\\BS\\Desktop\\license_plate.mp4: 384x640 1 License_Plate, 130.0ms\n",
            "video 1/1 (frame 52/140) C:\\Users\\BS\\Desktop\\license_plate.mp4: 384x640 1 License_Plate, 175.0ms\n",
            "video 1/1 (frame 53/140) C:\\Users\\BS\\Desktop\\license_plate.mp4: 384x640 1 License_Plate, 164.0ms\n",
            "video 1/1 (frame 54/140) C:\\Users\\BS\\Desktop\\license_plate.mp4: 384x640 1 License_Plate, 136.0ms\n",
            "video 1/1 (frame 55/140) C:\\Users\\BS\\Desktop\\license_plate.mp4: 384x640 1 License_Plate, 125.0ms\n",
            "video 1/1 (frame 56/140) C:\\Users\\BS\\Desktop\\license_plate.mp4: 384x640 1 License_Plate, 130.0ms\n",
            "video 1/1 (frame 57/140) C:\\Users\\BS\\Desktop\\license_plate.mp4: 384x640 1 License_Plate, 126.0ms\n",
            "video 1/1 (frame 58/140) C:\\Users\\BS\\Desktop\\license_plate.mp4: 384x640 1 License_Plate, 132.0ms\n",
            "video 1/1 (frame 59/140) C:\\Users\\BS\\Desktop\\license_plate.mp4: 384x640 1 License_Plate, 129.0ms\n",
            "video 1/1 (frame 60/140) C:\\Users\\BS\\Desktop\\license_plate.mp4: 384x640 1 License_Plate, 128.0ms\n",
            "video 1/1 (frame 61/140) C:\\Users\\BS\\Desktop\\license_plate.mp4: 384x640 1 License_Plate, 128.0ms\n",
            "video 1/1 (frame 62/140) C:\\Users\\BS\\Desktop\\license_plate.mp4: 384x640 1 License_Plate, 132.0ms\n",
            "video 1/1 (frame 63/140) C:\\Users\\BS\\Desktop\\license_plate.mp4: 384x640 1 License_Plate, 127.0ms\n",
            "video 1/1 (frame 64/140) C:\\Users\\BS\\Desktop\\license_plate.mp4: 384x640 1 License_Plate, 138.0ms\n",
            "video 1/1 (frame 65/140) C:\\Users\\BS\\Desktop\\license_plate.mp4: 384x640 1 License_Plate, 131.0ms\n",
            "video 1/1 (frame 66/140) C:\\Users\\BS\\Desktop\\license_plate.mp4: 384x640 1 License_Plate, 143.0ms\n",
            "video 1/1 (frame 67/140) C:\\Users\\BS\\Desktop\\license_plate.mp4: 384x640 1 License_Plate, 136.0ms\n",
            "video 1/1 (frame 68/140) C:\\Users\\BS\\Desktop\\license_plate.mp4: 384x640 1 License_Plate, 128.0ms\n",
            "video 1/1 (frame 69/140) C:\\Users\\BS\\Desktop\\license_plate.mp4: 384x640 1 License_Plate, 138.0ms\n",
            "video 1/1 (frame 70/140) C:\\Users\\BS\\Desktop\\license_plate.mp4: 384x640 1 License_Plate, 131.0ms\n",
            "video 1/1 (frame 71/140) C:\\Users\\BS\\Desktop\\license_plate.mp4: 384x640 1 License_Plate, 139.0ms\n",
            "video 1/1 (frame 72/140) C:\\Users\\BS\\Desktop\\license_plate.mp4: 384x640 1 License_Plate, 130.0ms\n",
            "video 1/1 (frame 73/140) C:\\Users\\BS\\Desktop\\license_plate.mp4: 384x640 1 License_Plate, 137.0ms\n",
            "video 1/1 (frame 74/140) C:\\Users\\BS\\Desktop\\license_plate.mp4: 384x640 1 License_Plate, 140.0ms\n",
            "video 1/1 (frame 75/140) C:\\Users\\BS\\Desktop\\license_plate.mp4: 384x640 1 License_Plate, 135.0ms\n",
            "video 1/1 (frame 76/140) C:\\Users\\BS\\Desktop\\license_plate.mp4: 384x640 1 License_Plate, 175.0ms\n",
            "video 1/1 (frame 77/140) C:\\Users\\BS\\Desktop\\license_plate.mp4: 384x640 1 License_Plate, 145.0ms\n",
            "video 1/1 (frame 78/140) C:\\Users\\BS\\Desktop\\license_plate.mp4: 384x640 1 License_Plate, 165.0ms\n",
            "video 1/1 (frame 79/140) C:\\Users\\BS\\Desktop\\license_plate.mp4: 384x640 1 License_Plate, 133.0ms\n",
            "video 1/1 (frame 80/140) C:\\Users\\BS\\Desktop\\license_plate.mp4: 384x640 1 License_Plate, 141.0ms\n",
            "video 1/1 (frame 81/140) C:\\Users\\BS\\Desktop\\license_plate.mp4: 384x640 1 License_Plate, 131.0ms\n",
            "video 1/1 (frame 82/140) C:\\Users\\BS\\Desktop\\license_plate.mp4: 384x640 1 License_Plate, 138.0ms\n",
            "video 1/1 (frame 83/140) C:\\Users\\BS\\Desktop\\license_plate.mp4: 384x640 1 License_Plate, 126.0ms\n",
            "video 1/1 (frame 84/140) C:\\Users\\BS\\Desktop\\license_plate.mp4: 384x640 1 License_Plate, 127.0ms\n",
            "video 1/1 (frame 85/140) C:\\Users\\BS\\Desktop\\license_plate.mp4: 384x640 1 License_Plate, 125.0ms\n",
            "video 1/1 (frame 86/140) C:\\Users\\BS\\Desktop\\license_plate.mp4: 384x640 1 License_Plate, 138.0ms\n",
            "video 1/1 (frame 87/140) C:\\Users\\BS\\Desktop\\license_plate.mp4: 384x640 1 License_Plate, 219.0ms\n",
            "video 1/1 (frame 88/140) C:\\Users\\BS\\Desktop\\license_plate.mp4: 384x640 1 License_Plate, 207.0ms\n",
            "video 1/1 (frame 89/140) C:\\Users\\BS\\Desktop\\license_plate.mp4: 384x640 1 License_Plate, 131.0ms\n",
            "video 1/1 (frame 90/140) C:\\Users\\BS\\Desktop\\license_plate.mp4: 384x640 1 License_Plate, 144.0ms\n",
            "video 1/1 (frame 91/140) C:\\Users\\BS\\Desktop\\license_plate.mp4: 384x640 1 License_Plate, 138.0ms\n",
            "video 1/1 (frame 92/140) C:\\Users\\BS\\Desktop\\license_plate.mp4: 384x640 1 License_Plate, 167.0ms\n",
            "video 1/1 (frame 93/140) C:\\Users\\BS\\Desktop\\license_plate.mp4: 384x640 1 License_Plate, 204.0ms\n",
            "video 1/1 (frame 94/140) C:\\Users\\BS\\Desktop\\license_plate.mp4: 384x640 1 License_Plate, 133.0ms\n",
            "video 1/1 (frame 95/140) C:\\Users\\BS\\Desktop\\license_plate.mp4: 384x640 1 License_Plate, 127.0ms\n",
            "video 1/1 (frame 96/140) C:\\Users\\BS\\Desktop\\license_plate.mp4: 384x640 1 License_Plate, 138.0ms\n",
            "video 1/1 (frame 97/140) C:\\Users\\BS\\Desktop\\license_plate.mp4: 384x640 1 License_Plate, 134.0ms\n",
            "video 1/1 (frame 98/140) C:\\Users\\BS\\Desktop\\license_plate.mp4: 384x640 1 License_Plate, 133.0ms\n",
            "video 1/1 (frame 99/140) C:\\Users\\BS\\Desktop\\license_plate.mp4: 384x640 1 License_Plate, 133.0ms\n",
            "video 1/1 (frame 100/140) C:\\Users\\BS\\Desktop\\license_plate.mp4: 384x640 1 License_Plate, 130.0ms\n",
            "video 1/1 (frame 101/140) C:\\Users\\BS\\Desktop\\license_plate.mp4: 384x640 1 License_Plate, 126.0ms\n",
            "video 1/1 (frame 102/140) C:\\Users\\BS\\Desktop\\license_plate.mp4: 384x640 1 License_Plate, 125.0ms\n",
            "video 1/1 (frame 103/140) C:\\Users\\BS\\Desktop\\license_plate.mp4: 384x640 1 License_Plate, 130.0ms\n",
            "video 1/1 (frame 104/140) C:\\Users\\BS\\Desktop\\license_plate.mp4: 384x640 1 License_Plate, 126.0ms\n",
            "video 1/1 (frame 105/140) C:\\Users\\BS\\Desktop\\license_plate.mp4: 384x640 1 License_Plate, 124.0ms\n",
            "video 1/1 (frame 106/140) C:\\Users\\BS\\Desktop\\license_plate.mp4: 384x640 1 License_Plate, 129.0ms\n",
            "video 1/1 (frame 107/140) C:\\Users\\BS\\Desktop\\license_plate.mp4: 384x640 1 License_Plate, 128.0ms\n",
            "video 1/1 (frame 108/140) C:\\Users\\BS\\Desktop\\license_plate.mp4: 384x640 1 License_Plate, 129.0ms\n",
            "video 1/1 (frame 109/140) C:\\Users\\BS\\Desktop\\license_plate.mp4: 384x640 1 License_Plate, 127.0ms\n",
            "video 1/1 (frame 110/140) C:\\Users\\BS\\Desktop\\license_plate.mp4: 384x640 1 License_Plate, 144.0ms\n",
            "video 1/1 (frame 111/140) C:\\Users\\BS\\Desktop\\license_plate.mp4: 384x640 1 License_Plate, 141.0ms\n",
            "video 1/1 (frame 112/140) C:\\Users\\BS\\Desktop\\license_plate.mp4: 384x640 1 License_Plate, 134.0ms\n",
            "video 1/1 (frame 113/140) C:\\Users\\BS\\Desktop\\license_plate.mp4: 384x640 1 License_Plate, 129.0ms\n",
            "video 1/1 (frame 114/140) C:\\Users\\BS\\Desktop\\license_plate.mp4: 384x640 1 License_Plate, 141.0ms\n",
            "video 1/1 (frame 115/140) C:\\Users\\BS\\Desktop\\license_plate.mp4: 384x640 1 License_Plate, 133.0ms\n",
            "video 1/1 (frame 116/140) C:\\Users\\BS\\Desktop\\license_plate.mp4: 384x640 1 License_Plate, 131.0ms\n",
            "video 1/1 (frame 117/140) C:\\Users\\BS\\Desktop\\license_plate.mp4: 384x640 1 License_Plate, 131.0ms\n",
            "video 1/1 (frame 118/140) C:\\Users\\BS\\Desktop\\license_plate.mp4: 384x640 1 License_Plate, 131.0ms\n",
            "video 1/1 (frame 119/140) C:\\Users\\BS\\Desktop\\license_plate.mp4: 384x640 1 License_Plate, 134.0ms\n",
            "video 1/1 (frame 120/140) C:\\Users\\BS\\Desktop\\license_plate.mp4: 384x640 1 License_Plate, 127.0ms\n",
            "video 1/1 (frame 121/140) C:\\Users\\BS\\Desktop\\license_plate.mp4: 384x640 1 License_Plate, 130.0ms\n",
            "video 1/1 (frame 122/140) C:\\Users\\BS\\Desktop\\license_plate.mp4: 384x640 1 License_Plate, 128.0ms\n",
            "video 1/1 (frame 123/140) C:\\Users\\BS\\Desktop\\license_plate.mp4: 384x640 1 License_Plate, 127.0ms\n",
            "video 1/1 (frame 124/140) C:\\Users\\BS\\Desktop\\license_plate.mp4: 384x640 1 License_Plate, 131.0ms\n",
            "video 1/1 (frame 125/140) C:\\Users\\BS\\Desktop\\license_plate.mp4: 384x640 1 License_Plate, 125.0ms\n",
            "video 1/1 (frame 126/140) C:\\Users\\BS\\Desktop\\license_plate.mp4: 384x640 1 License_Plate, 130.8ms\n",
            "video 1/1 (frame 127/140) C:\\Users\\BS\\Desktop\\license_plate.mp4: 384x640 1 License_Plate, 127.0ms\n",
            "video 1/1 (frame 128/140) C:\\Users\\BS\\Desktop\\license_plate.mp4: 384x640 1 License_Plate, 130.0ms\n",
            "video 1/1 (frame 129/140) C:\\Users\\BS\\Desktop\\license_plate.mp4: 384x640 1 License_Plate, 127.0ms\n",
            "video 1/1 (frame 130/140) C:\\Users\\BS\\Desktop\\license_plate.mp4: 384x640 1 License_Plate, 129.0ms\n",
            "video 1/1 (frame 131/140) C:\\Users\\BS\\Desktop\\license_plate.mp4: 384x640 1 License_Plate, 128.0ms\n",
            "video 1/1 (frame 132/140) C:\\Users\\BS\\Desktop\\license_plate.mp4: 384x640 1 License_Plate, 139.0ms\n",
            "video 1/1 (frame 133/140) C:\\Users\\BS\\Desktop\\license_plate.mp4: 384x640 1 License_Plate, 135.0ms\n",
            "video 1/1 (frame 134/140) C:\\Users\\BS\\Desktop\\license_plate.mp4: 384x640 1 License_Plate, 133.0ms\n",
            "video 1/1 (frame 135/140) C:\\Users\\BS\\Desktop\\license_plate.mp4: 384x640 1 License_Plate, 129.0ms\n",
            "video 1/1 (frame 136/140) C:\\Users\\BS\\Desktop\\license_plate.mp4: 384x640 1 License_Plate, 128.0ms\n",
            "video 1/1 (frame 137/140) C:\\Users\\BS\\Desktop\\license_plate.mp4: 384x640 1 License_Plate, 126.0ms\n",
            "video 1/1 (frame 138/140) C:\\Users\\BS\\Desktop\\license_plate.mp4: 384x640 1 License_Plate, 126.0ms\n",
            "video 1/1 (frame 139/140) C:\\Users\\BS\\Desktop\\license_plate.mp4: 384x640 1 License_Plate, 126.0ms\n",
            "video 1/1 (frame 140/140) C:\\Users\\BS\\Desktop\\license_plate.mp4: 384x640 1 License_Plate, 125.0ms\n",
            "Speed: 3.1ms preprocess, 136.5ms inference, 1.7ms postprocess per image at shape (1, 3, 384, 640)\n",
            "Results saved to \u001b[1mruns\\detect\\predict2\u001b[0m\n"
          ]
        }
      ],
      "source": [
        "result = model.predict(source=\"C:\\\\Users\\\\BS\\\\Desktop\\\\license_plate.mp4\",conf=.5,save=True)"
      ]
    },
    {
      "cell_type": "code",
      "execution_count": 63,
      "metadata": {
        "colab": {
          "base_uri": "https://localhost:8080/",
          "height": 423
        },
        "id": "1nFtqEtak3Vt",
        "outputId": "8042ff7f-bb57-422f-83d5-4dc34cc80737"
      },
      "outputs": [
        {
          "name": "stderr",
          "output_type": "stream",
          "text": [
            "Neither CUDA nor MPS are available - defaulting to CPU. Note: This module is much faster with a GPU.\n"
          ]
        },
        {
          "name": "stdout",
          "output_type": "stream",
          "text": [
            "\n",
            "0: 384x640 1 License_Plate, 128.9ms\n",
            "Speed: 4.1ms preprocess, 128.9ms inference, 2.0ms postprocess per image at shape (1, 3, 384, 640)\n"
          ]
        },
        {
          "ename": "error",
          "evalue": "OpenCV(4.10.0) D:\\a\\opencv-python\\opencv-python\\opencv\\modules\\highgui\\src\\window.cpp:1301: error: (-2:Unspecified error) The function is not implemented. Rebuild the library with Windows, GTK+ 2.x or Cocoa support. If you are on Ubuntu or Debian, install libgtk2.0-dev and pkg-config, then re-run cmake or configure script in function 'cvShowImage'\n",
          "output_type": "error",
          "traceback": [
            "\u001b[1;31m---------------------------------------------------------------------------\u001b[0m",
            "\u001b[1;31merror\u001b[0m                                     Traceback (most recent call last)",
            "Cell \u001b[1;32mIn[63], line 17\u001b[0m\n\u001b[0;32m     15\u001b[0m cv2\u001b[38;5;241m.\u001b[39mrectangle(frame,(x1,y1),(x2,y2),(\u001b[38;5;241m225\u001b[39m,\u001b[38;5;241m0\u001b[39m,\u001b[38;5;241m0\u001b[39m),\u001b[38;5;241m2\u001b[39m)\n\u001b[0;32m     16\u001b[0m cv2\u001b[38;5;241m.\u001b[39mputText(frame,text,org,cv2\u001b[38;5;241m.\u001b[39mFONT_HERSHEY_SIMPLEX,\u001b[38;5;241m1\u001b[39m,(\u001b[38;5;241m255\u001b[39m,\u001b[38;5;241m0\u001b[39m,\u001b[38;5;241m0\u001b[39m),\u001b[38;5;241m2\u001b[39m,cv2\u001b[38;5;241m.\u001b[39mLINE_AA)\n\u001b[1;32m---> 17\u001b[0m \u001b[43mcv2\u001b[49m\u001b[38;5;241;43m.\u001b[39;49m\u001b[43mimshow\u001b[49m\u001b[43m(\u001b[49m\u001b[38;5;124;43m'\u001b[39;49m\u001b[38;5;124;43mVideo\u001b[39;49m\u001b[38;5;124;43m'\u001b[39;49m\u001b[43m,\u001b[49m\u001b[43mframe\u001b[49m\u001b[43m)\u001b[49m\n\u001b[0;32m     18\u001b[0m \u001b[38;5;28;01mif\u001b[39;00m cv2\u001b[38;5;241m.\u001b[39mwaitKey(\u001b[38;5;241m1\u001b[39m) \u001b[38;5;241m&\u001b[39m \u001b[38;5;241m0xFF\u001b[39m \u001b[38;5;241m==\u001b[39m \u001b[38;5;28mord\u001b[39m(\u001b[38;5;124m'\u001b[39m\u001b[38;5;124mq\u001b[39m\u001b[38;5;124m'\u001b[39m):\n\u001b[0;32m     19\u001b[0m     \u001b[38;5;28;01mbreak\u001b[39;00m\n",
            "File \u001b[1;32mc:\\Users\\BS\\newenv\\Lib\\site-packages\\ultralytics\\utils\\patches.py:56\u001b[0m, in \u001b[0;36mimshow\u001b[1;34m(winname, mat)\u001b[0m\n\u001b[0;32m     48\u001b[0m \u001b[38;5;28;01mdef\u001b[39;00m \u001b[38;5;21mimshow\u001b[39m(winname: \u001b[38;5;28mstr\u001b[39m, mat: np\u001b[38;5;241m.\u001b[39mndarray):\n\u001b[0;32m     49\u001b[0m \u001b[38;5;250m    \u001b[39m\u001b[38;5;124;03m\"\"\"\u001b[39;00m\n\u001b[0;32m     50\u001b[0m \u001b[38;5;124;03m    Displays an image in the specified window.\u001b[39;00m\n\u001b[0;32m     51\u001b[0m \n\u001b[1;32m   (...)\u001b[0m\n\u001b[0;32m     54\u001b[0m \u001b[38;5;124;03m        mat (np.ndarray): Image to be shown.\u001b[39;00m\n\u001b[0;32m     55\u001b[0m \u001b[38;5;124;03m    \"\"\"\u001b[39;00m\n\u001b[1;32m---> 56\u001b[0m     \u001b[43m_imshow\u001b[49m\u001b[43m(\u001b[49m\u001b[43mwinname\u001b[49m\u001b[38;5;241;43m.\u001b[39;49m\u001b[43mencode\u001b[49m\u001b[43m(\u001b[49m\u001b[38;5;124;43m\"\u001b[39;49m\u001b[38;5;124;43municode_escape\u001b[39;49m\u001b[38;5;124;43m\"\u001b[39;49m\u001b[43m)\u001b[49m\u001b[38;5;241;43m.\u001b[39;49m\u001b[43mdecode\u001b[49m\u001b[43m(\u001b[49m\u001b[43m)\u001b[49m\u001b[43m,\u001b[49m\u001b[43m \u001b[49m\u001b[43mmat\u001b[49m\u001b[43m)\u001b[49m\n",
            "\u001b[1;31merror\u001b[0m: OpenCV(4.10.0) D:\\a\\opencv-python\\opencv-python\\opencv\\modules\\highgui\\src\\window.cpp:1301: error: (-2:Unspecified error) The function is not implemented. Rebuild the library with Windows, GTK+ 2.x or Cocoa support. If you are on Ubuntu or Debian, install libgtk2.0-dev and pkg-config, then re-run cmake or configure script in function 'cvShowImage'\n"
          ]
        }
      ],
      "source": [
        "reader = easyocr.Reader(['en'])\n",
        "cap = cv2.VideoCapture(\"C:\\\\Users\\\\BS\\\\Desktop\\\\license_plate.mp4\")\n",
        "while   cap.isOpened():\n",
        "    ret,frame = cap.read()\n",
        "    gray = cv2.cvtColor(frame,cv2.COLOR_RGB2GRAY)\n",
        "    result=model.predict(source=frame,conf=.5)\n",
        "    obj_list = get_points(result)\n",
        "    for obj in obj_list:\n",
        "        x1,y1,x2,y2=obj\n",
        "        ff = gray[y1:y2,x1:x2]\n",
        "        ff = cv2.resize(frame,(400,150))\n",
        "        # adaptive_image = cv2.adaptiveThreshold(ff,255,cv2.ADAPTIVE_THRESH_GAUSSIAN_C,cv2.THRESH_BINARY,71,1)\n",
        "        org = (x1-15,y1-5)\n",
        "        text = license_text(frame)\n",
        "        cv2.rectangle(frame,(x1,y1),(x2,y2),(225,0,0),2)\n",
        "        cv2.putText(frame,text,org,cv2.FONT_HERSHEY_SIMPLEX,1,(255,0,0),2,cv2.LINE_AA)\n",
        "        cv2.imshow('Video',frame)\n",
        "        if cv2.waitKey(1) & 0xFF == ord('q'):\n",
        "            break\n",
        "cap.release()\n",
        "cv2.destroyAllWindows()"
      ]
    },
    {
      "cell_type": "code",
      "execution_count": 59,
      "metadata": {
        "id": "cB8aCPd8HDIP"
      },
      "outputs": [],
      "source": [
        "obj_list = get_points(result)\n"
      ]
    },
    {
      "cell_type": "code",
      "execution_count": 60,
      "metadata": {},
      "outputs": [
        {
          "data": {
            "text/plain": [
              "1"
            ]
          },
          "execution_count": 60,
          "metadata": {},
          "output_type": "execute_result"
        }
      ],
      "source": [
        "len(obj_list)"
      ]
    },
    {
      "cell_type": "code",
      "execution_count": null,
      "metadata": {},
      "outputs": [],
      "source": []
    }
  ],
  "metadata": {
    "accelerator": "GPU",
    "colab": {
      "gpuType": "T4",
      "provenance": []
    },
    "kernelspec": {
      "display_name": "Python 3",
      "name": "python3"
    },
    "language_info": {
      "codemirror_mode": {
        "name": "ipython",
        "version": 3
      },
      "file_extension": ".py",
      "mimetype": "text/x-python",
      "name": "python",
      "nbconvert_exporter": "python",
      "pygments_lexer": "ipython3",
      "version": "3.12.4"
    }
  },
  "nbformat": 4,
  "nbformat_minor": 0
}
